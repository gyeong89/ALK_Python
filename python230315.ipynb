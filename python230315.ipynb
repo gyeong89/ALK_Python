{
  "nbformat": 4,
  "nbformat_minor": 0,
  "metadata": {
    "colab": {
      "provenance": [],
      "collapsed_sections": [
        "27qfA-D1uKpO"
      ],
      "toc_visible": true,
      "authorship_tag": "ABX9TyPd6UKjx0gzzH9rEvzzGZEb",
      "include_colab_link": true
    },
    "kernelspec": {
      "name": "python3",
      "display_name": "Python 3"
    },
    "language_info": {
      "name": "python"
    }
  },
  "cells": [
    {
      "cell_type": "markdown",
      "metadata": {
        "id": "view-in-github",
        "colab_type": "text"
      },
      "source": [
        "<a href=\"https://colab.research.google.com/github/gyeong89/ALK_Python/blob/main/python230315.ipynb\" target=\"_parent\"><img src=\"https://colab.research.google.com/assets/colab-badge.svg\" alt=\"Open In Colab\"/></a>"
      ]
    },
    {
      "cell_type": "markdown",
      "source": [
        "# 대분류\n"
      ],
      "metadata": {
        "id": "eBfteK7MHLhx"
      }
    },
    {
      "cell_type": "code",
      "source": [
        "1+1"
      ],
      "metadata": {
        "colab": {
          "base_uri": "https://localhost:8080/"
        },
        "id": "0GDkKi_0GPeJ",
        "outputId": "e8ba7967-d81a-4acb-94b7-ede2ad75d794"
      },
      "execution_count": null,
      "outputs": [
        {
          "output_type": "execute_result",
          "data": {
            "text/plain": [
              "2"
            ]
          },
          "metadata": {},
          "execution_count": 1
        }
      ]
    },
    {
      "cell_type": "code",
      "source": [
        "print(\"Hello World\")"
      ],
      "metadata": {
        "colab": {
          "base_uri": "https://localhost:8080/"
        },
        "id": "YaVr02d4H4V6",
        "outputId": "fe32f601-b76d-4ed1-b07e-540cb4725e1d"
      },
      "execution_count": null,
      "outputs": [
        {
          "output_type": "stream",
          "name": "stdout",
          "text": [
            "Hello World\n"
          ]
        }
      ]
    },
    {
      "cell_type": "markdown",
      "source": [
        "## 파이선 기초 문법\n",
        "- 주석처리\n",
        "- 여러 줄 주석처리 시,\n",
        "  + 함수, 클래스 작성할 때\n",
        "  요긴하게 쓰임 (예 : Docstring)"
      ],
      "metadata": {
        "id": "LyNe-RfZG2pL"
      }
    },
    {
      "cell_type": "code",
      "source": [
        "# 한줄 주석처리 \n",
        "\n",
        "'''\n",
        "여려줄 주석처리  \n",
        "'''\n",
        "\n",
        "\"\"\"\n",
        "여러줄 주석처리 2\n",
        "\"\"\"\n",
        "\n",
        "print(\"Hello World\")"
      ],
      "metadata": {
        "colab": {
          "base_uri": "https://localhost:8080/"
        },
        "id": "mKGmFu1Ke-UZ",
        "outputId": "479067c2-1747-4be8-ff24-e974ad208f22"
      },
      "execution_count": null,
      "outputs": [
        {
          "output_type": "stream",
          "name": "stdout",
          "text": [
            "Hello World\n"
          ]
        }
      ]
    },
    {
      "cell_type": "markdown",
      "source": [
        "## 변수의 종류 (Scala 자료형)\n",
        "- 4가지 존재 : int, float, bool, None\n",
        "- 스칼라의 의미 : 더 이상 나누어지지 않는것"
      ],
      "metadata": {
        "id": "HswnNITAG7Ix"
      }
    },
    {
      "cell_type": "markdown",
      "source": [
        "### int형 예제\n"
      ],
      "metadata": {
        "id": "oqe-9qvLhoBb"
      }
    },
    {
      "cell_type": "code",
      "source": [
        "temp_int = 1\n",
        "print(temp_int)\n",
        "print(type(temp_int))"
      ],
      "metadata": {
        "colab": {
          "base_uri": "https://localhost:8080/"
        },
        "id": "FkCqFgmRiDSs",
        "outputId": "0e46f0ba-9d17-4e17-ac22-0455535c21a4"
      },
      "execution_count": null,
      "outputs": [
        {
          "output_type": "stream",
          "name": "stdout",
          "text": [
            "1\n",
            "<class 'int'>\n"
          ]
        }
      ]
    },
    {
      "cell_type": "markdown",
      "source": [
        "- 문자열\n"
      ],
      "metadata": {
        "id": "hrSoXxa9i9rj"
      }
    },
    {
      "cell_type": "code",
      "source": [
        "temp_int = '1'\n",
        "print(temp_int)\n",
        "print(type(temp_int))"
      ],
      "metadata": {
        "colab": {
          "base_uri": "https://localhost:8080/"
        },
        "id": "nnD7fuYljAlL",
        "outputId": "b09ab5a0-5bb5-4447-ab74-ed3d1a1b47e5"
      },
      "execution_count": null,
      "outputs": [
        {
          "output_type": "stream",
          "name": "stdout",
          "text": [
            "1\n",
            "<class 'str'>\n"
          ]
        }
      ]
    },
    {
      "cell_type": "markdown",
      "source": [
        "### float형 예제\n",
        "- 실수형\n"
      ],
      "metadata": {
        "id": "83MPol9WjhW2"
      }
    },
    {
      "cell_type": "code",
      "source": [
        "num_float = 0.2\n",
        "print(num_float)\n",
        "print(type(num_float))"
      ],
      "metadata": {
        "colab": {
          "base_uri": "https://localhost:8080/"
        },
        "id": "e8oflNNBjoRX",
        "outputId": "0e357de9-f76c-4d35-82f7-139b1e34cfba"
      },
      "execution_count": null,
      "outputs": [
        {
          "output_type": "stream",
          "name": "stdout",
          "text": [
            "0.2\n",
            "<class 'float'>\n"
          ]
        }
      ]
    },
    {
      "cell_type": "markdown",
      "source": [
        "### Bool\n",
        "- 참 거짓"
      ],
      "metadata": {
        "id": "4srUbWubkJyh"
      }
    },
    {
      "cell_type": "code",
      "source": [
        "temp_bool = True\n",
        "temp_bool = False\n",
        "\n",
        "print(type(temp_bool))"
      ],
      "metadata": {
        "colab": {
          "base_uri": "https://localhost:8080/"
        },
        "id": "cvfA1Z1tkN1k",
        "outputId": "e4ff753c-dcb3-4820-839a-95c2b22bc34b"
      },
      "execution_count": null,
      "outputs": [
        {
          "output_type": "stream",
          "name": "stdout",
          "text": [
            "<class 'bool'>\n"
          ]
        }
      ]
    },
    {
      "cell_type": "markdown",
      "source": [
        "### None 자료형\n",
        "- Null을 나타내는 자료형\n",
        " + 데이터 분석에서 가장 처리하기 까다로운 자료형"
      ],
      "metadata": {
        "id": "me597IINk-RF"
      }
    },
    {
      "cell_type": "code",
      "source": [
        "temp_none = None\n",
        "print(type(temp_none))"
      ],
      "metadata": {
        "colab": {
          "base_uri": "https://localhost:8080/"
        },
        "id": "pzSbQqDllX6t",
        "outputId": "67295b12-5490-44a8-ee73-2656efd785cc"
      },
      "execution_count": null,
      "outputs": [
        {
          "output_type": "stream",
          "name": "stdout",
          "text": [
            "<class 'NoneType'>\n"
          ]
        }
      ]
    },
    {
      "cell_type": "markdown",
      "source": [
        "## 사칙연산\n",
        "- 정수형 사칙연산"
      ],
      "metadata": {
        "id": "QlTkJnLrnKE5"
      }
    },
    {
      "cell_type": "code",
      "source": [
        "a = 6\n",
        "b = 2\n",
        "\n",
        "print(a+b) # 덧셈\n",
        "print(a-b) # 뺄셈\n",
        "print(a*b) # 곱셈\n",
        "print(a/b) #나누기\n",
        "print(a//b) # 몫\n",
        "print(a**b) # 제곱\n",
        "print(a %b) # 나머지"
      ],
      "metadata": {
        "colab": {
          "base_uri": "https://localhost:8080/"
        },
        "id": "vBhOg-mCnOMw",
        "outputId": "bbb5fdd5-8caf-44b5-aa6f-586bb8a4e1cc"
      },
      "execution_count": null,
      "outputs": [
        {
          "output_type": "stream",
          "name": "stdout",
          "text": [
            "8\n",
            "4\n",
            "12\n",
            "3.0\n",
            "3\n",
            "36\n",
            "0\n"
          ]
        }
      ]
    },
    {
      "cell_type": "markdown",
      "source": [
        "### 실수형 사칙연산"
      ],
      "metadata": {
        "id": "avCbFYpzrpHB"
      }
    },
    {
      "cell_type": "code",
      "source": [
        "a = 6.0\n",
        "b = 2.0\n",
        "\n",
        "print(a+b) # 덧셈\n",
        "print(a-b) # 뺄셈\n",
        "print(a*b) # 곱셈\n",
        "print(a/b) #나누기\n",
        "print(a//b) # 몫\n",
        "print(a**b) # 제곱\n",
        "print(a %b) # 나머지"
      ],
      "metadata": {
        "colab": {
          "base_uri": "https://localhost:8080/"
        },
        "id": "ApYitI0truVS",
        "outputId": "eb502725-8d95-4b54-ff6a-246e4bfdb9a9"
      },
      "execution_count": null,
      "outputs": [
        {
          "output_type": "stream",
          "name": "stdout",
          "text": [
            "8.0\n",
            "4.0\n",
            "12.0\n",
            "3.0\n",
            "3.0\n",
            "36.0\n",
            "0.0\n"
          ]
        }
      ]
    },
    {
      "cell_type": "markdown",
      "source": [
        "### 논리형 연산자\n",
        "- AND 조건, OR 조건이 있음"
      ],
      "metadata": {
        "id": "QbChrF7AsLKt"
      }
    },
    {
      "cell_type": "code",
      "source": [
        "print(True and True)\n",
        "print(True and False)\n",
        "print(False and True)\n",
        "print(False and False)"
      ],
      "metadata": {
        "colab": {
          "base_uri": "https://localhost:8080/"
        },
        "id": "1BwE-tzftD3M",
        "outputId": "711b6b81-2ed4-4dfd-fe68-454a9b3ac26c"
      },
      "execution_count": null,
      "outputs": [
        {
          "output_type": "stream",
          "name": "stdout",
          "text": [
            "True\n",
            "False\n",
            "False\n",
            "False\n"
          ]
        }
      ]
    },
    {
      "cell_type": "code",
      "source": [
        "print(True or True)\n",
        "print(True or False)\n",
        "print(False or True)\n",
        "print(False or False)"
      ],
      "metadata": {
        "colab": {
          "base_uri": "https://localhost:8080/"
        },
        "id": "U2VAhFfStT3X",
        "outputId": "39c85f90-5b7c-4818-d57f-64f2dcbec76e"
      },
      "execution_count": null,
      "outputs": [
        {
          "output_type": "stream",
          "name": "stdout",
          "text": [
            "True\n",
            "True\n",
            "True\n",
            "False\n"
          ]
        }
      ]
    },
    {
      "cell_type": "markdown",
      "source": [
        "### 비교 연산자\n",
        "- 비교 연산자는 부등호를 의미함\n",
        "- 왼쪽이 기준 값"
      ],
      "metadata": {
        "id": "Wn6FzONftu8i"
      }
    },
    {
      "cell_type": "code",
      "source": [
        "print(4 > 3)\n",
        "print(3 > 4)\n",
        "print(3 >= 4)\n",
        "print(3 <= 4)"
      ],
      "metadata": {
        "colab": {
          "base_uri": "https://localhost:8080/"
        },
        "id": "GfoO5-jQt1VD",
        "outputId": "7af37a8b-5562-400b-f0e8-821ddc9961d1"
      },
      "execution_count": null,
      "outputs": [
        {
          "output_type": "stream",
          "name": "stdout",
          "text": [
            "True\n",
            "False\n",
            "False\n",
            "True\n"
          ]
        }
      ]
    },
    {
      "cell_type": "markdown",
      "source": [
        "## input()\n",
        "- print() : 출력\n",
        "- input() : 입력"
      ],
      "metadata": {
        "id": "27qfA-D1uKpO"
      }
    },
    {
      "cell_type": "code",
      "source": [
        "var = input(\"값을 입력해주세요!!\")\n",
        "var = int(var)\n",
        "print(var) \n",
        "print(type(var))"
      ],
      "metadata": {
        "id": "R57crK6r40G6",
        "outputId": "2fecb87a-640a-433d-aac2-6e561cc3b332",
        "colab": {
          "base_uri": "https://localhost:8080/"
        }
      },
      "execution_count": null,
      "outputs": [
        {
          "output_type": "stream",
          "name": "stdout",
          "text": [
            "값을 입력해주세요!!10\n",
            "10\n",
            "<class 'int'>\n"
          ]
        }
      ]
    },
    {
      "cell_type": "code",
      "source": [
        "num1 = int(input(\"값을 입력해주세요!!\"))\n",
        "num2 = int(input(\"값을 입력해주세요!!\"))\n",
        "result = num1 + num2\n",
        "print(result)"
      ],
      "metadata": {
        "id": "0EyKUGdo43xg",
        "outputId": "62dfbb88-e59d-4359-86bd-25e1b3788285",
        "colab": {
          "base_uri": "https://localhost:8080/"
        }
      },
      "execution_count": null,
      "outputs": [
        {
          "output_type": "stream",
          "name": "stdout",
          "text": [
            "값을 입력해주세요!!10\n",
            "값을 입력해주세요!!10\n",
            "20\n"
          ]
        }
      ]
    },
    {
      "cell_type": "markdown",
      "source": [
        "## String\n",
        "- 매우 중요함!!!!"
      ],
      "metadata": {
        "id": "aNJ_11hv0YuD"
      }
    },
    {
      "cell_type": "code",
      "source": [
        "str1 = \"Hello \"\n",
        "str2 = \"World\"\n",
        "print(str1 + str2)"
      ],
      "metadata": {
        "colab": {
          "base_uri": "https://localhost:8080/"
        },
        "id": "Cr76j42q6EH1",
        "outputId": "2c6de548-3c7b-4fbd-b8ce-0df2a4401b2b"
      },
      "execution_count": null,
      "outputs": [
        {
          "output_type": "stream",
          "name": "stdout",
          "text": [
            "Hello World\n"
          ]
        }
      ]
    },
    {
      "cell_type": "code",
      "source": [
        "str1 = \"Hello \"\n",
        "str2 = \"World\"\n",
        "\n",
        "result = str1 + str2\n",
        "print(result)"
      ],
      "metadata": {
        "colab": {
          "base_uri": "https://localhost:8080/"
        },
        "id": "DtJsjMVX64Qj",
        "outputId": "1b475962-bd9b-45a6-d8b6-505eae2e7838"
      },
      "execution_count": null,
      "outputs": [
        {
          "output_type": "stream",
          "name": "stdout",
          "text": [
            "Hello World\n"
          ]
        }
      ]
    },
    {
      "cell_type": "code",
      "source": [
        "str1 = \"55\"\n",
        "str2 = \"1000\"\n",
        "print(int(str1) + int(str2))"
      ],
      "metadata": {
        "colab": {
          "base_uri": "https://localhost:8080/"
        },
        "id": "SS0ThpIO6al0",
        "outputId": "9e18d8ba-45d3-46b2-bfa5-3aeaf4a7f816"
      },
      "execution_count": null,
      "outputs": [
        {
          "output_type": "stream",
          "name": "stdout",
          "text": [
            "1055\n"
          ]
        }
      ]
    },
    {
      "cell_type": "markdown",
      "source": [
        "- 곱셈 연산자 사용"
      ],
      "metadata": {
        "id": "kmSSw1-R7EBT"
      }
    },
    {
      "cell_type": "code",
      "source": [
        "greeting = \"Hello World \"\n",
        "print(greeting * 3)"
      ],
      "metadata": {
        "colab": {
          "base_uri": "https://localhost:8080/"
        },
        "id": "5_XR36Nw7KKr",
        "outputId": "c5a0800c-c74d-402c-84cb-91475d1dccc6"
      },
      "execution_count": null,
      "outputs": [
        {
          "output_type": "stream",
          "name": "stdout",
          "text": [
            "Hello World Hello World Hello World \n"
          ]
        }
      ]
    },
    {
      "cell_type": "markdown",
      "source": [
        "### Indexing\n",
        "- 중요!!\n",
        "- 0번째부터 시"
      ],
      "metadata": {
        "id": "_8emLrVi7c7M"
      }
    },
    {
      "cell_type": "code",
      "source": [
        "greeting = \"Hello World!\"\n",
        "print(greeting[-3])"
      ],
      "metadata": {
        "colab": {
          "base_uri": "https://localhost:8080/"
        },
        "id": "71yueTOb7j4c",
        "outputId": "ed6cef1b-9f31-45dd-d9c1-117e3e6853a8"
      },
      "execution_count": null,
      "outputs": [
        {
          "output_type": "stream",
          "name": "stdout",
          "text": [
            "l\n"
          ]
        }
      ]
    },
    {
      "cell_type": "markdown",
      "source": [
        "### 슬라이싱\n",
        "- 자름"
      ],
      "metadata": {
        "id": "N69uAAMV8gx0"
      }
    },
    {
      "cell_type": "code",
      "source": [
        "greeting = \"Hello World!\"\n",
        "print(greeting[0:5])\n",
        "print(greeting[:])\n",
        "print(greeting[6:])\n",
        "print(greeting[3:8])\n",
        "print(greeting[5:-1])\n",
        "print(greeting[0:9:2])"
      ],
      "metadata": {
        "colab": {
          "base_uri": "https://localhost:8080/"
        },
        "id": "heY4Vd8r8uz8",
        "outputId": "22db0f55-6c44-4503-8bdd-ba33d9f362a9"
      },
      "execution_count": null,
      "outputs": [
        {
          "output_type": "stream",
          "name": "stdout",
          "text": [
            "Hello\n",
            "Hello World!\n",
            "World!\n",
            "lo Wo\n",
            " World\n",
            "HloWr\n"
          ]
        }
      ]
    },
    {
      "cell_type": "code",
      "source": [
        "greeting = \"Hello World!!!!!!\"\n",
        "greeting[13]"
      ],
      "metadata": {
        "colab": {
          "base_uri": "https://localhost:8080/",
          "height": 35
        },
        "id": "_hfvn-Ft-xCn",
        "outputId": "06edede1-4425-4dc3-8c5e-07c2eb892a09"
      },
      "execution_count": null,
      "outputs": [
        {
          "output_type": "execute_result",
          "data": {
            "text/plain": [
              "'!'"
            ],
            "application/vnd.google.colaboratory.intrinsic+json": {
              "type": "string"
            }
          },
          "metadata": {},
          "execution_count": 38
        }
      ]
    },
    {
      "cell_type": "markdown",
      "source": [
        "### 문자열의 함수들\n",
        "- 공식문서!"
      ],
      "metadata": {
        "id": "NPcEuDvy_2qw"
      }
    },
    {
      "cell_type": "code",
      "source": [
        "tmp_string = 'Java'\n",
        "\n",
        "# 변수명 저장\n",
        "# 변수명 저장함과 동시에, 클래스로 바뀜\n",
        "print(tmp_string.upper())   # upper 대문자\n",
        "print(tmp_string.lower())   # lower 소문자"
      ],
      "metadata": {
        "colab": {
          "base_uri": "https://localhost:8080/"
        },
        "id": "BkDFWkjNBGpN",
        "outputId": "e3945db1-2ae3-4e9b-bcfa-e6f36cc4499a"
      },
      "execution_count": null,
      "outputs": [
        {
          "output_type": "stream",
          "name": "stdout",
          "text": [
            "JAVA\n",
            "java\n"
          ]
        }
      ]
    },
    {
      "cell_type": "markdown",
      "source": [
        "- 참조 : https://docs.python.org/ko/3/library/stdtypes.html#:~:text=str.split,%5B%27%27%5D%20%EB%A5%BC%20%EB%8F%8C%EB%A0%A4%EC%A4%8D%EB%8B%88%EB%8B%A4."
      ],
      "metadata": {
        "id": "5ofHs8afFUvc"
      }
    },
    {
      "cell_type": "code",
      "source": [
        "tmp_string = \"BMW-BENZ-TESLA-KIA\"\n",
        "print(tmp_string.split(sep = '_'))"
      ],
      "metadata": {
        "colab": {
          "base_uri": "https://localhost:8080/"
        },
        "id": "i7CyzP3YEIuu",
        "outputId": "9c67f3d2-93c5-4f5f-f7fe-5dd612a7eadb"
      },
      "execution_count": null,
      "outputs": [
        {
          "output_type": "stream",
          "name": "stdout",
          "text": [
            "['BMW-BENZ-TESLA-KIA']\n"
          ]
        }
      ]
    },
    {
      "cell_type": "markdown",
      "source": [
        "## 리스트\n",
        "- 자바의 배열"
      ],
      "metadata": {
        "id": "vda785rWF1OO"
      }
    },
    {
      "cell_type": "code",
      "source": [
        "a = [ ]\n",
        "a_func = list() # list() 함수로도 빈 리스트 생성\n",
        "b = [1]\n",
        "c = ['Apple']\n",
        "d = [1,2,['apple']]\n",
        "\n",
        "print(a)\n",
        "print(a_func)\n",
        "print(b)\n",
        "print(c)\n",
        "print(d)"
      ],
      "metadata": {
        "colab": {
          "base_uri": "https://localhost:8080/"
        },
        "id": "3ZBEmLcuF5xJ",
        "outputId": "df438266-4a7d-41d4-a659-1a44087fc81d"
      },
      "execution_count": null,
      "outputs": [
        {
          "output_type": "stream",
          "name": "stdout",
          "text": [
            "[]\n",
            "[]\n",
            "[1]\n",
            "['Apple']\n",
            "[1, 2, ['apple']]\n"
          ]
        }
      ]
    },
    {
      "cell_type": "code",
      "source": [
        "a = [5,3,1,4,6,7]\n",
        "print(a)"
      ],
      "metadata": {
        "colab": {
          "base_uri": "https://localhost:8080/"
        },
        "id": "43rqokICHOQK",
        "outputId": "99432654-801a-4899-d07d-ccd841b053a8"
      },
      "execution_count": null,
      "outputs": [
        {
          "output_type": "stream",
          "name": "stdout",
          "text": [
            "[5, 3, 1, 4, 6, 7]\n"
          ]
        }
      ]
    },
    {
      "cell_type": "code",
      "source": [
        "a[0:4]"
      ],
      "metadata": {
        "colab": {
          "base_uri": "https://localhost:8080/"
        },
        "id": "4cMjyLULHbeJ",
        "outputId": "c458f43d-65c5-4444-9e88-815d9246db41"
      },
      "execution_count": null,
      "outputs": [
        {
          "output_type": "execute_result",
          "data": {
            "text/plain": [
              "[5, 3, 1, 4]"
            ]
          },
          "metadata": {},
          "execution_count": 17
        }
      ]
    },
    {
      "cell_type": "markdown",
      "source": [
        "### 중첩리스트(Nested List)\n",
        "- 리스트 내의 또 다른 리스트"
      ],
      "metadata": {
        "id": "823A4k9uHmU6"
      }
    },
    {
      "cell_type": "code",
      "source": [
        "a = [['apple', 'banana', 'cherry'], 1]\n",
        "print(a)"
      ],
      "metadata": {
        "colab": {
          "base_uri": "https://localhost:8080/"
        },
        "id": "MQfotwuEHvZY",
        "outputId": "bbf540a9-3763-4155-c9fc-48eff3be3fec"
      },
      "execution_count": null,
      "outputs": [
        {
          "output_type": "stream",
          "name": "stdout",
          "text": [
            "[['apple', 'banana', 'cherry'], 1]\n"
          ]
        }
      ]
    },
    {
      "cell_type": "code",
      "source": [
        "# cherry 글자에서 알벳 e만 가져오세요\n",
        "\n",
        "# temp = a[0]\n",
        "# temp2 = temp[2]\n",
        "# temp2[2]\n",
        "\n",
        "print(a[0][2][2])"
      ],
      "metadata": {
        "colab": {
          "base_uri": "https://localhost:8080/"
        },
        "id": "QNOqDkOoH5Ah",
        "outputId": "e4e8e6ea-7634-4027-d78e-dc4a64b36e6b"
      },
      "execution_count": null,
      "outputs": [
        {
          "output_type": "stream",
          "name": "stdout",
          "text": [
            "e\n"
          ]
        }
      ]
    },
    {
      "cell_type": "markdown",
      "source": [
        "### 리스트 연결 연산\n",
        "- 덧셈, 곱셈"
      ],
      "metadata": {
        "id": "LqNfN4vDnQb_"
      }
    },
    {
      "cell_type": "code",
      "source": [
        "a = ['alice', 'bob', 'cat']\n",
        "b = ['apple', 'banana', 'cherry']\n",
        "\n",
        "c = a + b\n",
        "print(c) "
      ],
      "metadata": {
        "colab": {
          "base_uri": "https://localhost:8080/"
        },
        "id": "avtLOVQOnUd6",
        "outputId": "cfce3c94-c98d-40fc-9c83-f49000fc7050"
      },
      "execution_count": null,
      "outputs": [
        {
          "output_type": "stream",
          "name": "stdout",
          "text": [
            "['alice', 'bob', 'cat', 'apple', 'banana', 'cherry']\n"
          ]
        }
      ]
    },
    {
      "cell_type": "code",
      "source": [
        "a = ['a','b','c']\n",
        "b = a * 3\n",
        "print(b)"
      ],
      "metadata": {
        "colab": {
          "base_uri": "https://localhost:8080/"
        },
        "id": "L8ltYuf-oNvr",
        "outputId": "a8ba3fb5-da7f-4992-d2a2-d2766fc0042a"
      },
      "execution_count": null,
      "outputs": [
        {
          "output_type": "stream",
          "name": "stdout",
          "text": [
            "['a', 'b', 'c', 'a', 'b', 'c', 'a', 'b', 'c']\n"
          ]
        }
      ]
    },
    {
      "cell_type": "code",
      "source": [
        "c = a * 0\n",
        "print(c)"
      ],
      "metadata": {
        "colab": {
          "base_uri": "https://localhost:8080/"
        },
        "id": "DJG7CZAeoZ2I",
        "outputId": "d8c90895-eab8-44f9-d09b-2f8c7cbe9100"
      },
      "execution_count": null,
      "outputs": [
        {
          "output_type": "stream",
          "name": "stdout",
          "text": [
            "[]\n"
          ]
        }
      ]
    },
    {
      "cell_type": "markdown",
      "source": [
        "### 리스트 값 수정\n"
      ],
      "metadata": {
        "id": "HcG7bfFopJ-4"
      }
    },
    {
      "cell_type": "code",
      "source": [
        "a = [1, 1, 1]\n",
        "a[1] = \"b\"\n",
        "\n",
        "print(a)"
      ],
      "metadata": {
        "colab": {
          "base_uri": "https://localhost:8080/"
        },
        "id": "yba1tYTQpVDq",
        "outputId": "14fa056f-d104-4c11-e284-2df57e689b65"
      },
      "execution_count": null,
      "outputs": [
        {
          "output_type": "stream",
          "name": "stdout",
          "text": [
            "[1, 'b', 1]\n"
          ]
        }
      ]
    },
    {
      "cell_type": "markdown",
      "source": [
        "### 리스트 값 추가하기\n",
        "- append 매서드 사용\n",
        "- 반복문 사용시, 매우 자주 활용 됨\n",
        "- 참조 : https://docs.python.org/ko/3/tutorial/datastructures.html#:~:text=list.append,x%5D%20%EC%99%80%20%EB%8F%99%EB%93%B1%ED%95%A9%EB%8B%88%EB%8B%A4."
      ],
      "metadata": {
        "id": "aBYtIeCZpsJG"
      }
    },
    {
      "cell_type": "code",
      "source": [
        "a = [100, 200, 300]\n",
        "a.append(400)\n",
        "\n",
        "print(a)"
      ],
      "metadata": {
        "colab": {
          "base_uri": "https://localhost:8080/"
        },
        "id": "GT0v1yuTpwMi",
        "outputId": "22a1f729-09aa-4d53-ab7d-38fd042886d7"
      },
      "execution_count": null,
      "outputs": [
        {
          "output_type": "stream",
          "name": "stdout",
          "text": [
            "[100, 200, 300, 400]\n"
          ]
        }
      ]
    },
    {
      "cell_type": "code",
      "source": [
        "a = [100, 200, 300]\n",
        "b = [400, 500, 600]\n",
        "a.append(b)\n",
        "\n",
        "print(a)"
      ],
      "metadata": {
        "colab": {
          "base_uri": "https://localhost:8080/"
        },
        "id": "WAAqZE7Vqpet",
        "outputId": "75b686db-7e05-4705-81e3-e55b0551c397"
      },
      "execution_count": null,
      "outputs": [
        {
          "output_type": "stream",
          "name": "stdout",
          "text": [
            "[100, 200, 300, [400, 500, 600]]\n"
          ]
        }
      ]
    },
    {
      "cell_type": "markdown",
      "source": [
        "### extend() 함수사용\n",
        "- 여러 개의 요소를 추가하고 싶다면 사용\n",
        "- 참조 : https://docs.python.org/ko/3/tutorial/datastructures.html#:~:text=list.extend,iterable%20%EC%99%80%20%EB%8F%99%EB%93%B1%ED%95%A9%EB%8B%88%EB%8B%A4."
      ],
      "metadata": {
        "id": "IulEM7-rq3hd"
      }
    },
    {
      "cell_type": "code",
      "source": [
        "a = [100, 200, 300]\n",
        "b = [400, 500, 600]\n",
        "a.extend(b)\n",
        "\n",
        "print(a)"
      ],
      "metadata": {
        "colab": {
          "base_uri": "https://localhost:8080/"
        },
        "id": "BwOL_2Ulq23h",
        "outputId": "796df0a2-6886-41f7-d248-be2cd8f76056"
      },
      "execution_count": null,
      "outputs": [
        {
          "output_type": "stream",
          "name": "stdout",
          "text": [
            "[100, 200, 300, 400, 500, 600]\n"
          ]
        }
      ]
    },
    {
      "cell_type": "markdown",
      "source": [
        "### insert\n",
        "- 특정한 위치에 값을 추가\n",
        "- 참조 : https://docs.python.org/ko/3/tutorial/datastructures.html#:~:text=list.insert,x)%20%EC%99%80%20%EB%8F%99%EB%93%B1%ED%95%A9%EB%8B%88%EB%8B%A4."
      ],
      "metadata": {
        "id": "V9m_seoQrTdn"
      }
    },
    {
      "cell_type": "code",
      "source": [
        "a = [1, 1, 1, 1, 1, 1, 1]\n",
        "a1 = a.insert(6, 100)\n",
        "\n",
        "print(a)"
      ],
      "metadata": {
        "colab": {
          "base_uri": "https://localhost:8080/"
        },
        "id": "yneXjzwxrW_K",
        "outputId": "35a1f82f-1924-4560-84ad-c453d0b1bc97"
      },
      "execution_count": null,
      "outputs": [
        {
          "output_type": "stream",
          "name": "stdout",
          "text": [
            "[1, 1, 1, 1, 1, 1, 100, 1]\n"
          ]
        }
      ]
    },
    {
      "cell_type": "markdown",
      "source": [
        "### 리스트의 값을 삭제\n",
        "- remove() 함수"
      ],
      "metadata": {
        "id": "jCMqLwRFsfd9"
      }
    },
    {
      "cell_type": "code",
      "source": [
        "a = [5, 4, 3, 2, 1]\n",
        "a.remove(4)   # 숫자는 인덱스 번호 아님, value값\n",
        "a"
      ],
      "metadata": {
        "colab": {
          "base_uri": "https://localhost:8080/"
        },
        "id": "HFU6rQEBsjle",
        "outputId": "0bb3d90e-d74b-41ab-8f1f-48c8e1c810d2"
      },
      "execution_count": null,
      "outputs": [
        {
          "output_type": "execute_result",
          "data": {
            "text/plain": [
              "[5, 3, 2, 1]"
            ]
          },
          "metadata": {},
          "execution_count": 14
        }
      ]
    },
    {
      "cell_type": "markdown",
      "source": [
        "- pop 함수"
      ],
      "metadata": {
        "id": "5bCSqRLOs7y-"
      }
    },
    {
      "cell_type": "code",
      "source": [
        "a = [5, 4, 3, 2, 1]\n",
        "a2 = a.pop(4) # 인덱스 값\n",
        "\n",
        "print(a2)   # 어떤걸 지웠는지 표시\n",
        "print(a)    # 지우고 남은걸 표시"
      ],
      "metadata": {
        "colab": {
          "base_uri": "https://localhost:8080/"
        },
        "id": "ddULdEZ0s-7u",
        "outputId": "f4ce8ab5-9bae-44f4-e424-ca6782b5d2b8"
      },
      "execution_count": null,
      "outputs": [
        {
          "output_type": "stream",
          "name": "stdout",
          "text": [
            "1\n",
            "[5, 4, 3, 2]\n"
          ]
        }
      ]
    },
    {
      "cell_type": "markdown",
      "source": [
        "## 그 외 유용한 메서드\n",
        "- clear 함수"
      ],
      "metadata": {
        "id": "KyxnxlYQvTcq"
      }
    },
    {
      "cell_type": "code",
      "source": [
        "a = [0, 1, 2, 3]\n",
        "print(a)\n",
        "\n",
        "a.clear()\n",
        "print(a)"
      ],
      "metadata": {
        "colab": {
          "base_uri": "https://localhost:8080/"
        },
        "id": "ZQu3IYRRvfRX",
        "outputId": "fc882157-ec83-48f7-83ca-0ddb6fe93d45"
      },
      "execution_count": null,
      "outputs": [
        {
          "output_type": "stream",
          "name": "stdout",
          "text": [
            "[0, 1, 2, 3]\n",
            "[]\n"
          ]
        }
      ]
    },
    {
      "cell_type": "code",
      "source": [
        "a = [1, 4, 5, 2, 3]\n",
        "a.sort()  # 오름차순\n",
        "print(a)"
      ],
      "metadata": {
        "colab": {
          "base_uri": "https://localhost:8080/"
        },
        "id": "FiXoXA_Uvu7A",
        "outputId": "24b6a631-4027-417b-94e1-9e63e0290016"
      },
      "execution_count": null,
      "outputs": [
        {
          "output_type": "stream",
          "name": "stdout",
          "text": [
            "[1, 2, 3, 4, 5]\n"
          ]
        }
      ]
    },
    {
      "cell_type": "code",
      "source": [
        "# 내림차순으로 정렬 : \n",
        "# https://wikidocs.net/16041#:~:text=sort%20%3A%20%EC%A0%95%EB%A0%AC%2C%20%EA%B8%B0%EB%B3%B8%EA%B0%92%EC%9D%80%20%EC%98%A4%EB%A6%84%EC%B0%A8%EC%88%9C%20%EC%A0%95%EB%A0%AC%2C%20reverse%EC%98%B5%EC%85%98%20True%EB%8A%94%20%EB%82%B4%EB%A6%BC%EC%B0%A8%EC%88%9C%20%EC%A0%95%EB%A0%AC\n",
        "a = [1, 4, 5, 2, 3]\n",
        "a.sort(reverse=True)\n",
        "print(a)"
      ],
      "metadata": {
        "colab": {
          "base_uri": "https://localhost:8080/"
        },
        "id": "O3yILEYCv6YI",
        "outputId": "eaa7e372-730e-4bd5-9cf1-1a6edbcab382"
      },
      "execution_count": null,
      "outputs": [
        {
          "output_type": "stream",
          "name": "stdout",
          "text": [
            "[5, 4, 3, 2, 1]\n"
          ]
        }
      ]
    },
    {
      "cell_type": "markdown",
      "source": [
        "## 튜플\n"
      ],
      "metadata": {
        "id": "7VQ4-O0k06cJ"
      }
    },
    {
      "cell_type": "code",
      "source": [
        "tuple01 = (0)\n",
        "tuple02 = (0, )\n",
        "tuple03 = 0, 1, 2\n",
        "\n",
        "print(tuple01)\n",
        "print(tuple02)\n",
        "print(tuple03)\n",
        "\n",
        "print(type(tuple01))\n",
        "print(type(tuple02))\n",
        "print(type(tuple03))"
      ],
      "metadata": {
        "colab": {
          "base_uri": "https://localhost:8080/"
        },
        "id": "oTZRagc-1Jyc",
        "outputId": "1a052215-ea11-4ce7-f35d-65031d3b97c7"
      },
      "execution_count": null,
      "outputs": [
        {
          "output_type": "stream",
          "name": "stdout",
          "text": [
            "0\n",
            "(0,)\n",
            "(0, 1, 2)\n",
            "<class 'int'>\n",
            "<class 'tuple'>\n",
            "<class 'tuple'>\n"
          ]
        }
      ]
    },
    {
      "cell_type": "code",
      "source": [
        "# packing\n",
        "my_tuple = 3, 2, \"A\"\n",
        "print(my_tuple)\n",
        "\n",
        "# Unpacking\n",
        "a, b, c = my_tuple\n",
        "\n",
        "print(a)\n",
        "print(b)\n",
        "print(c)"
      ],
      "metadata": {
        "colab": {
          "base_uri": "https://localhost:8080/"
        },
        "id": "jTT1bD3C1zTx",
        "outputId": "d7d65dde-7613-4bce-af42-2f7f8af2462b"
      },
      "execution_count": null,
      "outputs": [
        {
          "output_type": "stream",
          "name": "stdout",
          "text": [
            "(3, 2, 'A')\n",
            "3\n",
            "2\n",
            "A\n"
          ]
        }
      ]
    },
    {
      "cell_type": "markdown",
      "source": [
        "### 수정, 삭제 안됨"
      ],
      "metadata": {
        "id": "LVb86P0-2Vep"
      }
    },
    {
      "cell_type": "code",
      "source": [
        "a = [0, 1, 2, 3, 4, 5, \"a\"]\n",
        "del a[6]\n",
        "a"
      ],
      "metadata": {
        "colab": {
          "base_uri": "https://localhost:8080/"
        },
        "id": "5w-N1XnB2YGk",
        "outputId": "a346d274-1626-4929-ca27-235ffdbe81c1"
      },
      "execution_count": null,
      "outputs": [
        {
          "output_type": "execute_result",
          "data": {
            "text/plain": [
              "[0, 1, 2, 3, 4, 5]"
            ]
          },
          "metadata": {},
          "execution_count": 27
        }
      ]
    },
    {
      "cell_type": "code",
      "source": [
        "a = (0, 1, 2, 3, 4, 5, \"a\")\n",
        "print(a[6])\n",
        "# del a['a']"
      ],
      "metadata": {
        "colab": {
          "base_uri": "https://localhost:8080/"
        },
        "id": "b4BAsfoW2hY3",
        "outputId": "c9337eee-c54d-4a96-d210-72363358b43c"
      },
      "execution_count": null,
      "outputs": [
        {
          "output_type": "stream",
          "name": "stdout",
          "text": [
            "a\n"
          ]
        }
      ]
    },
    {
      "cell_type": "markdown",
      "source": [
        "- 수정\n"
      ],
      "metadata": {
        "id": "7JBYwuLx3bhw"
      }
    },
    {
      "cell_type": "code",
      "source": [
        "a = [1, 1, 1, 'a']\n",
        "a[3] = 1\n",
        "a"
      ],
      "metadata": {
        "colab": {
          "base_uri": "https://localhost:8080/"
        },
        "id": "ci-p60eZ3dAO",
        "outputId": "54f271ab-9e6e-48d8-e37f-a8ca614067c9"
      },
      "execution_count": null,
      "outputs": [
        {
          "output_type": "execute_result",
          "data": {
            "text/plain": [
              "[1, 1, 1, 1]"
            ]
          },
          "metadata": {},
          "execution_count": 29
        }
      ]
    },
    {
      "cell_type": "code",
      "source": [
        "a = (1, 1, 1, 'a')\n",
        "a[3] = 1\n",
        "a"
      ],
      "metadata": {
        "colab": {
          "base_uri": "https://localhost:8080/",
          "height": 211
        },
        "id": "6A8bH72q3ngW",
        "outputId": "0cacec3f-080c-4407-dc2a-337795e3f1b2"
      },
      "execution_count": null,
      "outputs": [
        {
          "output_type": "error",
          "ename": "TypeError",
          "evalue": "ignored",
          "traceback": [
            "\u001b[0;31m---------------------------------------------------------------------------\u001b[0m",
            "\u001b[0;31mTypeError\u001b[0m                                 Traceback (most recent call last)",
            "\u001b[0;32m<ipython-input-30-25aa4c4c82a9>\u001b[0m in \u001b[0;36m<module>\u001b[0;34m\u001b[0m\n\u001b[1;32m      1\u001b[0m \u001b[0ma\u001b[0m \u001b[0;34m=\u001b[0m \u001b[0;34m(\u001b[0m\u001b[0;36m1\u001b[0m\u001b[0;34m,\u001b[0m \u001b[0;36m1\u001b[0m\u001b[0;34m,\u001b[0m \u001b[0;36m1\u001b[0m\u001b[0;34m,\u001b[0m \u001b[0;34m'a'\u001b[0m\u001b[0;34m)\u001b[0m\u001b[0;34m\u001b[0m\u001b[0;34m\u001b[0m\u001b[0m\n\u001b[0;32m----> 2\u001b[0;31m \u001b[0ma\u001b[0m\u001b[0;34m[\u001b[0m\u001b[0;36m3\u001b[0m\u001b[0;34m]\u001b[0m \u001b[0;34m=\u001b[0m \u001b[0;36m1\u001b[0m\u001b[0;34m\u001b[0m\u001b[0;34m\u001b[0m\u001b[0m\n\u001b[0m\u001b[1;32m      3\u001b[0m \u001b[0ma\u001b[0m\u001b[0;34m\u001b[0m\u001b[0;34m\u001b[0m\u001b[0m\n",
            "\u001b[0;31mTypeError\u001b[0m: 'tuple' object does not support item assignment"
          ]
        }
      ]
    },
    {
      "cell_type": "markdown",
      "source": [
        "### 슬라이싱, 인덱싱\n",
        " - 각자 실습"
      ],
      "metadata": {
        "id": "ihZ8EK3U4GNU"
      }
    },
    {
      "cell_type": "markdown",
      "source": [
        "- 더하기 및 곱센 연산자 사용"
      ],
      "metadata": {
        "id": "ymzRF-_k4QsI"
      }
    },
    {
      "cell_type": "code",
      "source": [
        "t1 = (0, 2, 3, 4)\n",
        "t2 = ('a', 'b', 'c')\n",
        "\n",
        "print(t1 + t2)\n",
        "print(t1 * 3)\n",
        "print(t1 * 0)"
      ],
      "metadata": {
        "colab": {
          "base_uri": "https://localhost:8080/"
        },
        "id": "QpBEHAyz4BL8",
        "outputId": "046077ba-6e24-4cbd-f1dc-c6fccca3df5d"
      },
      "execution_count": null,
      "outputs": [
        {
          "output_type": "stream",
          "name": "stdout",
          "text": [
            "(0, 2, 3, 4, 'a', 'b', 'c')\n",
            "(0, 2, 3, 4, 0, 2, 3, 4, 0, 2, 3, 4)\n",
            "()\n"
          ]
        }
      ]
    },
    {
      "cell_type": "markdown",
      "source": [
        "##  딕셔너리\n",
        " - "
      ],
      "metadata": {
        "id": "njZPg3ui4kUt"
      }
    },
    {
      "cell_type": "code",
      "source": [
        "temp_dict = {\n",
        "    \"a\" : [0, 1, 2, 3],\n",
        "    \"b\" : \"휴먼\",\n",
        "    \"c\" : 100\n",
        "}\n",
        "\n",
        "temp_dict"
      ],
      "metadata": {
        "colab": {
          "base_uri": "https://localhost:8080/"
        },
        "id": "hrJRjeq_5TQi",
        "outputId": "5d164368-cf2e-41cc-9f87-972f63ebe69a"
      },
      "execution_count": null,
      "outputs": [
        {
          "output_type": "execute_result",
          "data": {
            "text/plain": [
              "{'a': [0, 1, 2, 3], 'b': '휴먼', 'c': 100}"
            ]
          },
          "metadata": {},
          "execution_count": 32
        }
      ]
    },
    {
      "cell_type": "code",
      "source": [
        "temp_dict['b']"
      ],
      "metadata": {
        "colab": {
          "base_uri": "https://localhost:8080/",
          "height": 35
        },
        "id": "LH2ZfaIg52Pd",
        "outputId": "345710d7-63d5-4904-d330-1ddb405319ea"
      },
      "execution_count": null,
      "outputs": [
        {
          "output_type": "execute_result",
          "data": {
            "text/plain": [
              "'휴먼'"
            ],
            "application/vnd.google.colaboratory.intrinsic+json": {
              "type": "string"
            }
          },
          "metadata": {},
          "execution_count": 35
        }
      ]
    },
    {
      "cell_type": "code",
      "source": [
        "temp_dict['d']  # KeyError"
      ],
      "metadata": {
        "colab": {
          "base_uri": "https://localhost:8080/",
          "height": 174
        },
        "id": "H2ByAlez6EWe",
        "outputId": "37f99684-aa3d-48f1-d7f0-c4f122c12b67"
      },
      "execution_count": null,
      "outputs": [
        {
          "output_type": "error",
          "ename": "KeyError",
          "evalue": "ignored",
          "traceback": [
            "\u001b[0;31m---------------------------------------------------------------------------\u001b[0m",
            "\u001b[0;31mKeyError\u001b[0m                                  Traceback (most recent call last)",
            "\u001b[0;32m<ipython-input-36-bb93225c332d>\u001b[0m in \u001b[0;36m<module>\u001b[0;34m\u001b[0m\n\u001b[0;32m----> 1\u001b[0;31m \u001b[0mtemp_dict\u001b[0m\u001b[0;34m[\u001b[0m\u001b[0;34m'd'\u001b[0m\u001b[0;34m]\u001b[0m\u001b[0;34m\u001b[0m\u001b[0;34m\u001b[0m\u001b[0m\n\u001b[0m",
            "\u001b[0;31mKeyError\u001b[0m: 'd'"
          ]
        }
      ]
    },
    {
      "cell_type": "code",
      "source": [
        "# print(type(temp_dict.keys()))\n",
        "\n",
        "# 리스트로 변환\n",
        "result = temp_dict.keys()\n",
        "result.append(\"d\")\n",
        "\n",
        "print(result)\n",
        "result = list(temp_dict.keys())\n",
        "\n",
        "print(result)\n",
        "print(type(result))"
      ],
      "metadata": {
        "colab": {
          "base_uri": "https://localhost:8080/",
          "height": 248
        },
        "id": "8O1Et1Qz7N5f",
        "outputId": "0e77baeb-edb3-4948-e39b-54ef443f900f"
      },
      "execution_count": null,
      "outputs": [
        {
          "output_type": "error",
          "ename": "AttributeError",
          "evalue": "ignored",
          "traceback": [
            "\u001b[0;31m---------------------------------------------------------------------------\u001b[0m",
            "\u001b[0;31mAttributeError\u001b[0m                            Traceback (most recent call last)",
            "\u001b[0;32m<ipython-input-94-865ea9ba6694>\u001b[0m in \u001b[0;36m<module>\u001b[0;34m\u001b[0m\n\u001b[1;32m      3\u001b[0m \u001b[0;31m# 리스트로 변환\u001b[0m\u001b[0;34m\u001b[0m\u001b[0;34m\u001b[0m\u001b[0m\n\u001b[1;32m      4\u001b[0m \u001b[0mresult\u001b[0m \u001b[0;34m=\u001b[0m \u001b[0mtemp_dict\u001b[0m\u001b[0;34m.\u001b[0m\u001b[0mkeys\u001b[0m\u001b[0;34m(\u001b[0m\u001b[0;34m)\u001b[0m\u001b[0;34m\u001b[0m\u001b[0;34m\u001b[0m\u001b[0m\n\u001b[0;32m----> 5\u001b[0;31m \u001b[0mresult\u001b[0m\u001b[0;34m.\u001b[0m\u001b[0mappend\u001b[0m\u001b[0;34m(\u001b[0m\u001b[0;34m\"d\"\u001b[0m\u001b[0;34m)\u001b[0m\u001b[0;34m\u001b[0m\u001b[0;34m\u001b[0m\u001b[0m\n\u001b[0m\u001b[1;32m      6\u001b[0m \u001b[0;34m\u001b[0m\u001b[0m\n\u001b[1;32m      7\u001b[0m \u001b[0mprint\u001b[0m\u001b[0;34m(\u001b[0m\u001b[0mresult\u001b[0m\u001b[0;34m)\u001b[0m\u001b[0;34m\u001b[0m\u001b[0;34m\u001b[0m\u001b[0m\n",
            "\u001b[0;31mAttributeError\u001b[0m: 'dict_keys' object has no attribute 'append'"
          ]
        }
      ]
    },
    {
      "cell_type": "code",
      "source": [
        "result = temp_dict.values()\n",
        "print(type(result))\n",
        "print(result)"
      ],
      "metadata": {
        "colab": {
          "base_uri": "https://localhost:8080/"
        },
        "id": "m6Vu7R8w8Xrl",
        "outputId": "069024da-9757-40eb-856d-66de80e08a22"
      },
      "execution_count": null,
      "outputs": [
        {
          "output_type": "stream",
          "name": "stdout",
          "text": [
            "<class 'dict_values'>\n",
            "dict_values([[0, 1, 2, 3], '휴먼', 100])\n"
          ]
        }
      ]
    },
    {
      "cell_type": "code",
      "source": [
        "a = {'name' : '휴먼', 'age' : 50, 'job' : '학생'} \n",
        "result = list(a.items())\n",
        "print(result)\n",
        "print(result[0][1])"
      ],
      "metadata": {
        "colab": {
          "base_uri": "https://localhost:8080/"
        },
        "id": "Tmc7Goeo8179",
        "outputId": "3355fcda-9992-42d3-9035-138d5a4ef609"
      },
      "execution_count": null,
      "outputs": [
        {
          "output_type": "stream",
          "name": "stdout",
          "text": [
            "[('name', '휴먼'), ('age', 50), ('job', '학생')]\n",
            "휴먼\n"
          ]
        }
      ]
    },
    {
      "cell_type": "code",
      "source": [
        "a = 0\n",
        "\n",
        "if a > 5:\n",
        "  print(\"a가 5보다 크다\")\n",
        "elif a > 0:\n",
        "  print(\"a가 0보다 크다\")\n",
        "else :\n",
        "  print(\"음수\")"
      ],
      "metadata": {
        "colab": {
          "base_uri": "https://localhost:8080/"
        },
        "id": "unWZIqK1C2jL",
        "outputId": "11c01a7f-4b68-4802-ceb7-ddac219cb0a4"
      },
      "execution_count": null,
      "outputs": [
        {
          "output_type": "stream",
          "name": "stdout",
          "text": [
            "음수\n"
          ]
        }
      ]
    },
    {
      "cell_type": "code",
      "source": [
        "# input 함수\n",
        "# 90점 이상 A등금, 80점 이상 B등급 나머지 C등급\n",
        "\n",
        "num = int(input(\"점수를 입력해주세요\"))\n",
        "\n",
        "if num >= 90:\n",
        "  print(\"A등급\")\n",
        "elif num >= 80:\n",
        "  print(\"B등급\")\n",
        "else :\n",
        "  print(\"C등급\")"
      ],
      "metadata": {
        "colab": {
          "base_uri": "https://localhost:8080/"
        },
        "id": "SLewMpFRD2eg",
        "outputId": "1b0553d1-999b-4064-cd0f-93680d15a30d"
      },
      "execution_count": null,
      "outputs": [
        {
          "output_type": "stream",
          "name": "stdout",
          "text": [
            "점수를 입력해주세요81\n",
            "B등급\n"
          ]
        }
      ]
    },
    {
      "cell_type": "markdown",
      "source": [
        "## 반복문\n",
        "- "
      ],
      "metadata": {
        "id": "x6VRgqYMHBkL"
      }
    },
    {
      "cell_type": "code",
      "source": [
        "# 과제 Hello World 10개를 출력\n",
        "for i in range(3):      # for 다양한 객체 사용 : https://wikidocs.net/22\n",
        "  print(\"Hello World\")"
      ],
      "metadata": {
        "colab": {
          "base_uri": "https://localhost:8080/"
        },
        "id": "8T96halqHfwI",
        "outputId": "a7021454-1484-4bbf-e42a-0ee873fceed5"
      },
      "execution_count": null,
      "outputs": [
        {
          "output_type": "stream",
          "name": "stdout",
          "text": [
            "Hello World\n",
            "Hello World\n",
            "Hello World\n"
          ]
        }
      ]
    },
    {
      "cell_type": "code",
      "source": [
        "letters = ['A', 'B', 'C']\n",
        "for idx, value in enumerate(letters):\n",
        "  print(idx, value)"
      ],
      "metadata": {
        "colab": {
          "base_uri": "https://localhost:8080/"
        },
        "id": "VSK1y8xdJLpy",
        "outputId": "fe9115bd-0308-4d25-ebc8-5e3857df8479"
      },
      "execution_count": null,
      "outputs": [
        {
          "output_type": "stream",
          "name": "stdout",
          "text": [
            "0 A\n",
            "1 B\n",
            "2 C\n"
          ]
        }
      ]
    },
    {
      "cell_type": "code",
      "source": [
        "fruits = ['apple', 'kiwi', 'mango']\n",
        "\n",
        "# 리스트의 값: 그 중에서 a가 들어간 글자만 따로 출력\n",
        "# 리스트 컴프리헨션(List Comprehension)\n",
        "newlists = [fruit for fruit in fruits if \"a\" in fruit]\n",
        "print(newlists)"
      ],
      "metadata": {
        "colab": {
          "base_uri": "https://localhost:8080/"
        },
        "id": "d9hIintCJwcx",
        "outputId": "ea417e5f-fe75-4e95-8646-0b50ab01a1e0"
      },
      "execution_count": null,
      "outputs": [
        {
          "output_type": "stream",
          "name": "stdout",
          "text": [
            "['apple', 'mango']\n"
          ]
        }
      ]
    },
    {
      "cell_type": "code",
      "source": [
        "fruits = ['apple', 'kiwi', 'mango']\n",
        "\"a\" in fruits[2]"
      ],
      "metadata": {
        "colab": {
          "base_uri": "https://localhost:8080/"
        },
        "id": "mkFncVKfLWKg",
        "outputId": "20d3bc33-427a-4fa7-f096-23acf1f5c1cf"
      },
      "execution_count": null,
      "outputs": [
        {
          "output_type": "execute_result",
          "data": {
            "text/plain": [
              "True"
            ]
          },
          "metadata": {},
          "execution_count": 91
        }
      ]
    },
    {
      "cell_type": "code",
      "source": [
        "fruits = ['apple', 'kiwi', 'mango']\n",
        "\n",
        "newlist = []\n",
        "for fruit in fruits:\n",
        "  # 1단계\n",
        "  print(fruit)\n",
        "  # 조건문\n",
        "\n",
        "  # 2단계 : 조건문을 작성할 수 있다\n",
        "  # True False  식을 도출 --> 가장 어렵고 해야만 하는것\n",
        "  if \"a\" in fruit:\n",
        "    newlist.append(fruit)\n",
        "\n",
        "print(newlist)"
      ],
      "metadata": {
        "colab": {
          "base_uri": "https://localhost:8080/"
        },
        "id": "SKr1iumZKkYT",
        "outputId": "7d8640a7-0acb-45e9-daae-095d1ec668c1"
      },
      "execution_count": null,
      "outputs": [
        {
          "output_type": "stream",
          "name": "stdout",
          "text": [
            "apple\n",
            "kiwi\n",
            "mango\n",
            "['apple', 'mango']\n"
          ]
        }
      ]
    },
    {
      "cell_type": "markdown",
      "source": [
        "###기초문법\n"
      ],
      "metadata": {
        "id": "lkYSE0A8hsvz"
      }
    },
    {
      "cell_type": "markdown",
      "source": [],
      "metadata": {
        "id": "FcnBmJTHtgih"
      }
    },
    {
      "cell_type": "markdown",
      "source": [
        "### 판다스 문법\n",
        "- 호로로로로로로로로롤"
      ],
      "metadata": {
        "id": "1gdNpPiIHDCB"
      }
    },
    {
      "cell_type": "markdown",
      "source": [
        "# 대분류2"
      ],
      "metadata": {
        "id": "lQPIkNH-h9MS"
      }
    }
  ]
}